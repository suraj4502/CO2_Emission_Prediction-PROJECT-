{
 "cells": [
  {
   "cell_type": "code",
   "execution_count": 1,
   "id": "a78aead3",
   "metadata": {},
   "outputs": [
    {
     "data": {
      "text/html": [
       "<div>\n",
       "<style scoped>\n",
       "    .dataframe tbody tr th:only-of-type {\n",
       "        vertical-align: middle;\n",
       "    }\n",
       "\n",
       "    .dataframe tbody tr th {\n",
       "        vertical-align: top;\n",
       "    }\n",
       "\n",
       "    .dataframe thead th {\n",
       "        text-align: right;\n",
       "    }\n",
       "</style>\n",
       "<table border=\"1\" class=\"dataframe\">\n",
       "  <thead>\n",
       "    <tr style=\"text-align: right;\">\n",
       "      <th></th>\n",
       "      <th>make</th>\n",
       "      <th>model</th>\n",
       "      <th>vehicle_class</th>\n",
       "      <th>engine_size</th>\n",
       "      <th>cylinders</th>\n",
       "      <th>transmission</th>\n",
       "      <th>fuel_type</th>\n",
       "      <th>fuel_consumption_city</th>\n",
       "      <th>fuel_consumption_hwy</th>\n",
       "      <th>fuel_consumption_comb(l/100km)</th>\n",
       "      <th>fuel_consumption_comb(mpg)</th>\n",
       "      <th>co2_emissions</th>\n",
       "    </tr>\n",
       "  </thead>\n",
       "  <tbody>\n",
       "    <tr>\n",
       "      <th>3029</th>\n",
       "      <td>MINI</td>\n",
       "      <td>COOPER CONVERTIBLE</td>\n",
       "      <td>MINICOMPACT</td>\n",
       "      <td>1.5</td>\n",
       "      <td>3</td>\n",
       "      <td>AS</td>\n",
       "      <td>Z</td>\n",
       "      <td>8.7</td>\n",
       "      <td>6.6</td>\n",
       "      <td>7.7</td>\n",
       "      <td>37</td>\n",
       "      <td>181</td>\n",
       "    </tr>\n",
       "    <tr>\n",
       "      <th>3779</th>\n",
       "      <td>GMC</td>\n",
       "      <td>YUKON XL 4WD</td>\n",
       "      <td>SUV - STANDARD</td>\n",
       "      <td>5.3</td>\n",
       "      <td>8</td>\n",
       "      <td>A</td>\n",
       "      <td>X</td>\n",
       "      <td>15.4</td>\n",
       "      <td>10.8</td>\n",
       "      <td>13.3</td>\n",
       "      <td>21</td>\n",
       "      <td>312</td>\n",
       "    </tr>\n",
       "    <tr>\n",
       "      <th>4352</th>\n",
       "      <td>VOLVO</td>\n",
       "      <td>S60 T6 AWD</td>\n",
       "      <td>COMPACT</td>\n",
       "      <td>2.0</td>\n",
       "      <td>4</td>\n",
       "      <td>AS</td>\n",
       "      <td>Z</td>\n",
       "      <td>10.9</td>\n",
       "      <td>7.7</td>\n",
       "      <td>9.5</td>\n",
       "      <td>30</td>\n",
       "      <td>221</td>\n",
       "    </tr>\n",
       "    <tr>\n",
       "      <th>6755</th>\n",
       "      <td>DODGE</td>\n",
       "      <td>Challenger Widebody (MDS)</td>\n",
       "      <td>MID-SIZE</td>\n",
       "      <td>6.4</td>\n",
       "      <td>8</td>\n",
       "      <td>A</td>\n",
       "      <td>Z</td>\n",
       "      <td>15.8</td>\n",
       "      <td>9.6</td>\n",
       "      <td>13.0</td>\n",
       "      <td>22</td>\n",
       "      <td>305</td>\n",
       "    </tr>\n",
       "    <tr>\n",
       "      <th>1927</th>\n",
       "      <td>MITSUBISHI</td>\n",
       "      <td>LANCER</td>\n",
       "      <td>COMPACT</td>\n",
       "      <td>2.0</td>\n",
       "      <td>4</td>\n",
       "      <td>M</td>\n",
       "      <td>X</td>\n",
       "      <td>9.6</td>\n",
       "      <td>6.9</td>\n",
       "      <td>8.4</td>\n",
       "      <td>34</td>\n",
       "      <td>193</td>\n",
       "    </tr>\n",
       "  </tbody>\n",
       "</table>\n",
       "</div>"
      ],
      "text/plain": [
       "            make                      model   vehicle_class  engine_size  \\\n",
       "3029        MINI         COOPER CONVERTIBLE     MINICOMPACT          1.5   \n",
       "3779         GMC               YUKON XL 4WD  SUV - STANDARD          5.3   \n",
       "4352       VOLVO                 S60 T6 AWD         COMPACT          2.0   \n",
       "6755       DODGE  Challenger Widebody (MDS)        MID-SIZE          6.4   \n",
       "1927  MITSUBISHI                     LANCER         COMPACT          2.0   \n",
       "\n",
       "      cylinders transmission fuel_type  fuel_consumption_city  \\\n",
       "3029          3           AS         Z                    8.7   \n",
       "3779          8            A         X                   15.4   \n",
       "4352          4           AS         Z                   10.9   \n",
       "6755          8            A         Z                   15.8   \n",
       "1927          4            M         X                    9.6   \n",
       "\n",
       "      fuel_consumption_hwy  fuel_consumption_comb(l/100km)  \\\n",
       "3029                   6.6                             7.7   \n",
       "3779                  10.8                            13.3   \n",
       "4352                   7.7                             9.5   \n",
       "6755                   9.6                            13.0   \n",
       "1927                   6.9                             8.4   \n",
       "\n",
       "      fuel_consumption_comb(mpg)  co2_emissions  \n",
       "3029                          37            181  \n",
       "3779                          21            312  \n",
       "4352                          30            221  \n",
       "6755                          22            305  \n",
       "1927                          34            193  "
      ]
     },
     "execution_count": 1,
     "metadata": {},
     "output_type": "execute_result"
    }
   ],
   "source": [
    "import pandas as pd\n",
    "import numpy as np\n",
    "df = pd.read_csv('co2_emissions (1).csv',sep=';')\n",
    "df.sample(5)"
   ]
  },
  {
   "cell_type": "code",
   "execution_count": 24,
   "id": "9b7072b0",
   "metadata": {},
   "outputs": [
    {
     "data": {
      "text/plain": [
       "26.1"
      ]
     },
     "execution_count": 24,
     "metadata": {},
     "output_type": "execute_result"
    }
   ],
   "source": [
    "df['fuel_consumption_comb(l/100km)'].max()"
   ]
  },
  {
   "cell_type": "code",
   "execution_count": 19,
   "id": "e3c9ec65",
   "metadata": {},
   "outputs": [
    {
     "data": {
      "text/plain": [
       "array(['Z', 'D', 'X', 'E', 'N'], dtype=object)"
      ]
     },
     "execution_count": 19,
     "metadata": {},
     "output_type": "execute_result"
    }
   ],
   "source": [
    "c=df. .unique()\n",
    "c"
   ]
  },
  {
   "cell_type": "code",
   "execution_count": 20,
   "id": "62409ff7",
   "metadata": {},
   "outputs": [],
   "source": [
    "c.sort()"
   ]
  },
  {
   "cell_type": "code",
   "execution_count": 22,
   "id": "fd33046d",
   "metadata": {},
   "outputs": [
    {
     "name": "stdout",
     "output_type": "stream",
     "text": [
      "['D' 'E' 'N' 'X' 'Z']\n"
     ]
    }
   ],
   "source": [
    "print(c)"
   ]
  },
  {
   "cell_type": "code",
   "execution_count": null,
   "id": "8ec67649",
   "metadata": {},
   "outputs": [],
   "source": []
  },
  {
   "cell_type": "code",
   "execution_count": 12,
   "id": "f1632cee",
   "metadata": {},
   "outputs": [
    {
     "data": {
      "text/plain": [
       "3"
      ]
     },
     "execution_count": 12,
     "metadata": {},
     "output_type": "execute_result"
    }
   ],
   "source": [
    "df.cylinders.min()"
   ]
  },
  {
   "cell_type": "code",
   "execution_count": 13,
   "id": "b18b0c53",
   "metadata": {},
   "outputs": [
    {
     "data": {
      "text/plain": [
       "16"
      ]
     },
     "execution_count": 13,
     "metadata": {},
     "output_type": "execute_result"
    }
   ],
   "source": [
    "df.cylinders.max()"
   ]
  },
  {
   "cell_type": "code",
   "execution_count": 2,
   "id": "8232e7ab",
   "metadata": {},
   "outputs": [],
   "source": [
    "i1 ='GMC'"
   ]
  },
  {
   "cell_type": "code",
   "execution_count": 3,
   "id": "ac02c5c8",
   "metadata": {},
   "outputs": [],
   "source": [
    "dfn = df[(df['make'] == i1)]"
   ]
  },
  {
   "cell_type": "code",
   "execution_count": 4,
   "id": "9892892e",
   "metadata": {},
   "outputs": [],
   "source": [
    "b=dfn.model.unique()\n"
   ]
  },
  {
   "cell_type": "code",
   "execution_count": 5,
   "id": "7772a25d",
   "metadata": {},
   "outputs": [],
   "source": [
    "b.sort()"
   ]
  },
  {
   "cell_type": "code",
   "execution_count": null,
   "id": "df4b0348",
   "metadata": {},
   "outputs": [],
   "source": []
  },
  {
   "cell_type": "code",
   "execution_count": 6,
   "id": "5de3e51b",
   "metadata": {},
   "outputs": [],
   "source": [
    "i2 ='ACADIA'"
   ]
  },
  {
   "cell_type": "code",
   "execution_count": 7,
   "id": "07c4df6d",
   "metadata": {},
   "outputs": [],
   "source": [
    "dfn1 = dfn[dfn['model']==i2]"
   ]
  },
  {
   "cell_type": "code",
   "execution_count": 8,
   "id": "8c819f96",
   "metadata": {},
   "outputs": [
    {
     "data": {
      "text/plain": [
       "array(['SUV - STANDARD'], dtype=object)"
      ]
     },
     "execution_count": 8,
     "metadata": {},
     "output_type": "execute_result"
    }
   ],
   "source": [
    "c = dfn1['vehicle_class'].unique()\n",
    "c"
   ]
  },
  {
   "cell_type": "code",
   "execution_count": 9,
   "id": "c31fcbe3",
   "metadata": {},
   "outputs": [],
   "source": [
    "i3='SUV - STANDARD'"
   ]
  },
  {
   "cell_type": "code",
   "execution_count": 10,
   "id": "31a10623",
   "metadata": {},
   "outputs": [
    {
     "data": {
      "text/plain": [
       "array([3.6, 2.5])"
      ]
     },
     "execution_count": 10,
     "metadata": {},
     "output_type": "execute_result"
    }
   ],
   "source": [
    "dfn2=dfn1[dfn1['vehicle_class']==i3]\n",
    "d=dfn2['engine_size'].unique()\n",
    "d"
   ]
  },
  {
   "cell_type": "code",
   "execution_count": 11,
   "id": "ea359ed3",
   "metadata": {},
   "outputs": [],
   "source": [
    "d.sort()"
   ]
  },
  {
   "cell_type": "code",
   "execution_count": 12,
   "id": "8f4711b9",
   "metadata": {},
   "outputs": [
    {
     "data": {
      "text/plain": [
       "array([2.5, 3.6])"
      ]
     },
     "execution_count": 12,
     "metadata": {},
     "output_type": "execute_result"
    }
   ],
   "source": [
    "d"
   ]
  },
  {
   "cell_type": "code",
   "execution_count": 13,
   "id": "dfd0be47",
   "metadata": {},
   "outputs": [],
   "source": [
    "i4=2.5"
   ]
  },
  {
   "cell_type": "code",
   "execution_count": 14,
   "id": "d2c3dbcd",
   "metadata": {},
   "outputs": [
    {
     "data": {
      "text/plain": [
       "array([4, 6], dtype=int64)"
      ]
     },
     "execution_count": 14,
     "metadata": {},
     "output_type": "execute_result"
    }
   ],
   "source": [
    "dfn3=dfn2[dfn2['engine_size']==i4]\n",
    "e=dfn2['cylinders'].unique()\n",
    "e.sort()\n",
    "e"
   ]
  },
  {
   "cell_type": "code",
   "execution_count": 15,
   "id": "07c15012",
   "metadata": {},
   "outputs": [],
   "source": [
    "i5=4"
   ]
  },
  {
   "cell_type": "code",
   "execution_count": 16,
   "id": "f884f240",
   "metadata": {},
   "outputs": [
    {
     "data": {
      "text/plain": [
       "array(['A'], dtype=object)"
      ]
     },
     "execution_count": 16,
     "metadata": {},
     "output_type": "execute_result"
    }
   ],
   "source": [
    "dfn4 = dfn3[dfn3['cylinders']==i5]\n",
    "f=dfn3['transmission'].unique()\n",
    "f"
   ]
  },
  {
   "cell_type": "code",
   "execution_count": 18,
   "id": "f9bbf56b",
   "metadata": {},
   "outputs": [],
   "source": [
    "i6 = 'A'"
   ]
  },
  {
   "cell_type": "code",
   "execution_count": 19,
   "id": "6479c2f0",
   "metadata": {},
   "outputs": [
    {
     "data": {
      "text/plain": [
       "array(['X'], dtype=object)"
      ]
     },
     "execution_count": 19,
     "metadata": {},
     "output_type": "execute_result"
    }
   ],
   "source": [
    "dfn5 = dfn4[dfn4['transmission'] == i6]\n",
    "i = dfn4['fuel_type'].unique()\n",
    "i"
   ]
  },
  {
   "cell_type": "code",
   "execution_count": 20,
   "id": "a1947eac",
   "metadata": {},
   "outputs": [
    {
     "data": {
      "text/plain": [
       "4.1"
      ]
     },
     "execution_count": 20,
     "metadata": {},
     "output_type": "execute_result"
    }
   ],
   "source": [
    "df['fuel_consumption_comb(l/100km)'].min()"
   ]
  },
  {
   "cell_type": "code",
   "execution_count": 21,
   "id": "4dcbcd29",
   "metadata": {},
   "outputs": [
    {
     "data": {
      "text/plain": [
       "26.1"
      ]
     },
     "execution_count": 21,
     "metadata": {},
     "output_type": "execute_result"
    }
   ],
   "source": [
    "df['fuel_consumption_comb(l/100km)'].max()"
   ]
  },
  {
   "cell_type": "code",
   "execution_count": null,
   "id": "6715d967",
   "metadata": {},
   "outputs": [],
   "source": []
  }
 ],
 "metadata": {
  "kernelspec": {
   "display_name": "Python 3 (ipykernel)",
   "language": "python",
   "name": "python3"
  },
  "language_info": {
   "codemirror_mode": {
    "name": "ipython",
    "version": 3
   },
   "file_extension": ".py",
   "mimetype": "text/x-python",
   "name": "python",
   "nbconvert_exporter": "python",
   "pygments_lexer": "ipython3",
   "version": "3.9.7"
  }
 },
 "nbformat": 4,
 "nbformat_minor": 5
}
