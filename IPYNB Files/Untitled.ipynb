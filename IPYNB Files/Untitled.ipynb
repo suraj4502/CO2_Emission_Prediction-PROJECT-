{
 "cells": [
  {
   "cell_type": "code",
   "execution_count": 16,
   "id": "a78aead3",
   "metadata": {},
   "outputs": [
    {
     "data": {
      "text/html": [
       "<div>\n",
       "<style scoped>\n",
       "    .dataframe tbody tr th:only-of-type {\n",
       "        vertical-align: middle;\n",
       "    }\n",
       "\n",
       "    .dataframe tbody tr th {\n",
       "        vertical-align: top;\n",
       "    }\n",
       "\n",
       "    .dataframe thead th {\n",
       "        text-align: right;\n",
       "    }\n",
       "</style>\n",
       "<table border=\"1\" class=\"dataframe\">\n",
       "  <thead>\n",
       "    <tr style=\"text-align: right;\">\n",
       "      <th></th>\n",
       "      <th>make</th>\n",
       "      <th>model</th>\n",
       "      <th>vehicle_class</th>\n",
       "      <th>engine_size</th>\n",
       "      <th>cylinders</th>\n",
       "      <th>transmission</th>\n",
       "      <th>fuel_type</th>\n",
       "      <th>fuel_consumption_city</th>\n",
       "      <th>fuel_consumption_hwy</th>\n",
       "      <th>fuel_consumption_comb(l/100km)</th>\n",
       "      <th>fuel_consumption_comb(mpg)</th>\n",
       "      <th>co2_emissions</th>\n",
       "    </tr>\n",
       "  </thead>\n",
       "  <tbody>\n",
       "    <tr>\n",
       "      <th>3699</th>\n",
       "      <td>FORD</td>\n",
       "      <td>FUSION</td>\n",
       "      <td>MID-SIZE</td>\n",
       "      <td>2.5</td>\n",
       "      <td>4</td>\n",
       "      <td>A</td>\n",
       "      <td>X</td>\n",
       "      <td>11.3</td>\n",
       "      <td>7.5</td>\n",
       "      <td>9.6</td>\n",
       "      <td>29</td>\n",
       "      <td>224</td>\n",
       "    </tr>\n",
       "    <tr>\n",
       "      <th>7226</th>\n",
       "      <td>NISSAN</td>\n",
       "      <td>Armada 4WD</td>\n",
       "      <td>SUV - STANDARD</td>\n",
       "      <td>5.6</td>\n",
       "      <td>8</td>\n",
       "      <td>AS</td>\n",
       "      <td>X</td>\n",
       "      <td>17.5</td>\n",
       "      <td>12.9</td>\n",
       "      <td>15.4</td>\n",
       "      <td>18</td>\n",
       "      <td>362</td>\n",
       "    </tr>\n",
       "    <tr>\n",
       "      <th>3533</th>\n",
       "      <td>CHEVROLET</td>\n",
       "      <td>SILVERADO</td>\n",
       "      <td>PICKUP TRUCK - STANDARD</td>\n",
       "      <td>5.3</td>\n",
       "      <td>8</td>\n",
       "      <td>A</td>\n",
       "      <td>X</td>\n",
       "      <td>15.2</td>\n",
       "      <td>10.7</td>\n",
       "      <td>13.1</td>\n",
       "      <td>22</td>\n",
       "      <td>309</td>\n",
       "    </tr>\n",
       "    <tr>\n",
       "      <th>4537</th>\n",
       "      <td>CADILLAC</td>\n",
       "      <td>CTS AWD</td>\n",
       "      <td>MID-SIZE</td>\n",
       "      <td>3.6</td>\n",
       "      <td>6</td>\n",
       "      <td>AS</td>\n",
       "      <td>X</td>\n",
       "      <td>12.1</td>\n",
       "      <td>8.6</td>\n",
       "      <td>10.5</td>\n",
       "      <td>27</td>\n",
       "      <td>247</td>\n",
       "    </tr>\n",
       "    <tr>\n",
       "      <th>6583</th>\n",
       "      <td>BMW</td>\n",
       "      <td>750Li xDrive Sedan</td>\n",
       "      <td>FULL-SIZE</td>\n",
       "      <td>4.4</td>\n",
       "      <td>8</td>\n",
       "      <td>AS</td>\n",
       "      <td>Z</td>\n",
       "      <td>14.5</td>\n",
       "      <td>9.9</td>\n",
       "      <td>12.4</td>\n",
       "      <td>23</td>\n",
       "      <td>290</td>\n",
       "    </tr>\n",
       "  </tbody>\n",
       "</table>\n",
       "</div>"
      ],
      "text/plain": [
       "           make               model            vehicle_class  engine_size  \\\n",
       "3699       FORD              FUSION                 MID-SIZE          2.5   \n",
       "7226     NISSAN          Armada 4WD           SUV - STANDARD          5.6   \n",
       "3533  CHEVROLET           SILVERADO  PICKUP TRUCK - STANDARD          5.3   \n",
       "4537   CADILLAC             CTS AWD                 MID-SIZE          3.6   \n",
       "6583        BMW  750Li xDrive Sedan                FULL-SIZE          4.4   \n",
       "\n",
       "      cylinders transmission fuel_type  fuel_consumption_city  \\\n",
       "3699          4            A         X                   11.3   \n",
       "7226          8           AS         X                   17.5   \n",
       "3533          8            A         X                   15.2   \n",
       "4537          6           AS         X                   12.1   \n",
       "6583          8           AS         Z                   14.5   \n",
       "\n",
       "      fuel_consumption_hwy  fuel_consumption_comb(l/100km)  \\\n",
       "3699                   7.5                             9.6   \n",
       "7226                  12.9                            15.4   \n",
       "3533                  10.7                            13.1   \n",
       "4537                   8.6                            10.5   \n",
       "6583                   9.9                            12.4   \n",
       "\n",
       "      fuel_consumption_comb(mpg)  co2_emissions  \n",
       "3699                          29            224  \n",
       "7226                          18            362  \n",
       "3533                          22            309  \n",
       "4537                          27            247  \n",
       "6583                          23            290  "
      ]
     },
     "execution_count": 16,
     "metadata": {},
     "output_type": "execute_result"
    }
   ],
   "source": [
    "import pandas as pd\n",
    "import numpy as np\n",
    "df = pd.read_csv(\"C:/Users/91775/DATA SCIENCE/projects/CO2 Emission/Data/co2_emissions (1).csv\", sep=';')\n",
    "df.sample(5)"
   ]
  },
  {
   "cell_type": "code",
   "execution_count": 24,
   "id": "28e4d50d",
   "metadata": {},
   "outputs": [],
   "source": [
    "milege = 25"
   ]
  },
  {
   "cell_type": "code",
   "execution_count": 25,
   "id": "5d6c4f9d",
   "metadata": {},
   "outputs": [],
   "source": [
    "i6 = 100/milege"
   ]
  },
  {
   "cell_type": "code",
   "execution_count": 26,
   "id": "b11f1303",
   "metadata": {},
   "outputs": [
    {
     "data": {
      "text/plain": [
       "4.0"
      ]
     },
     "execution_count": 26,
     "metadata": {},
     "output_type": "execute_result"
    }
   ],
   "source": [
    "i6"
   ]
  },
  {
   "cell_type": "code",
   "execution_count": 19,
   "id": "306be565",
   "metadata": {},
   "outputs": [],
   "source": [
    "###\n",
    "fuel_consumption_comb = 100 / milege\n"
   ]
  },
  {
   "cell_type": "code",
   "execution_count": 30,
   "id": "72ecb8a7",
   "metadata": {},
   "outputs": [
    {
     "data": {
      "text/plain": [
       "8.5"
      ]
     },
     "execution_count": 30,
     "metadata": {},
     "output_type": "execute_result"
    }
   ],
   "source": [
    "milege = 11.764705882352942\n",
    "fuel_consumption_comb = abs(100/milege)\n",
    "fuel_consumption_comb"
   ]
  },
  {
   "cell_type": "code",
   "execution_count": 15,
   "id": "bcc35c7c",
   "metadata": {},
   "outputs": [
    {
     "data": {
      "text/plain": [
       "16.6"
      ]
     },
     "execution_count": 15,
     "metadata": {},
     "output_type": "execute_result"
    }
   ],
   "source": [
    "fuel_consumption_comb = 100 / 6.024096385542168\n",
    "fuel_consumption_comb"
   ]
  },
  {
   "cell_type": "code",
   "execution_count": 32,
   "id": "89ae0b14",
   "metadata": {},
   "outputs": [
    {
     "data": {
      "text/plain": [
       "6.4935064935064934"
      ]
     },
     "execution_count": 32,
     "metadata": {},
     "output_type": "execute_result"
    }
   ],
   "source": [
    "milege = 100/15.4\n",
    "milege"
   ]
  },
  {
   "cell_type": "code",
   "execution_count": 18,
   "id": "e3c9ec65",
   "metadata": {},
   "outputs": [
    {
     "data": {
      "text/plain": [
       "12.4"
      ]
     },
     "execution_count": 18,
     "metadata": {},
     "output_type": "execute_result"
    }
   ],
   "source": [
    "fuel_consumption_comb = 100 / 8.064516129032258\n",
    "fuel_consumption_comb"
   ]
  },
  {
   "cell_type": "code",
   "execution_count": null,
   "id": "62409ff7",
   "metadata": {},
   "outputs": [],
   "source": [
    "c.sort()"
   ]
  },
  {
   "cell_type": "code",
   "execution_count": 22,
   "id": "fd33046d",
   "metadata": {},
   "outputs": [
    {
     "name": "stdout",
     "output_type": "stream",
     "text": [
      "['D' 'E' 'N' 'X' 'Z']\n"
     ]
    }
   ],
   "source": [
    "print(c)"
   ]
  },
  {
   "cell_type": "code",
   "execution_count": null,
   "id": "8ec67649",
   "metadata": {},
   "outputs": [],
   "source": []
  },
  {
   "cell_type": "code",
   "execution_count": 12,
   "id": "f1632cee",
   "metadata": {},
   "outputs": [
    {
     "data": {
      "text/plain": [
       "3"
      ]
     },
     "execution_count": 12,
     "metadata": {},
     "output_type": "execute_result"
    }
   ],
   "source": [
    "df.cylinders.min()"
   ]
  },
  {
   "cell_type": "code",
   "execution_count": 13,
   "id": "b18b0c53",
   "metadata": {},
   "outputs": [
    {
     "data": {
      "text/plain": [
       "16"
      ]
     },
     "execution_count": 13,
     "metadata": {},
     "output_type": "execute_result"
    }
   ],
   "source": [
    "df.cylinders.max()"
   ]
  },
  {
   "cell_type": "code",
   "execution_count": 2,
   "id": "8232e7ab",
   "metadata": {},
   "outputs": [],
   "source": [
    "i1 ='GMC'"
   ]
  },
  {
   "cell_type": "code",
   "execution_count": 3,
   "id": "ac02c5c8",
   "metadata": {},
   "outputs": [],
   "source": [
    "dfn = df[(df['make'] == i1)]"
   ]
  },
  {
   "cell_type": "code",
   "execution_count": 4,
   "id": "9892892e",
   "metadata": {},
   "outputs": [],
   "source": [
    "b=dfn.model.unique()\n"
   ]
  },
  {
   "cell_type": "code",
   "execution_count": 5,
   "id": "7772a25d",
   "metadata": {},
   "outputs": [],
   "source": [
    "b.sort()"
   ]
  },
  {
   "cell_type": "code",
   "execution_count": null,
   "id": "df4b0348",
   "metadata": {},
   "outputs": [],
   "source": []
  },
  {
   "cell_type": "code",
   "execution_count": 6,
   "id": "5de3e51b",
   "metadata": {},
   "outputs": [],
   "source": [
    "i2 ='ACADIA'"
   ]
  },
  {
   "cell_type": "code",
   "execution_count": 7,
   "id": "07c4df6d",
   "metadata": {},
   "outputs": [],
   "source": [
    "dfn1 = dfn[dfn['model']==i2]"
   ]
  },
  {
   "cell_type": "code",
   "execution_count": 8,
   "id": "8c819f96",
   "metadata": {},
   "outputs": [
    {
     "data": {
      "text/plain": [
       "array(['SUV - STANDARD'], dtype=object)"
      ]
     },
     "execution_count": 8,
     "metadata": {},
     "output_type": "execute_result"
    }
   ],
   "source": [
    "c = dfn1['vehicle_class'].unique()\n",
    "c"
   ]
  },
  {
   "cell_type": "code",
   "execution_count": 9,
   "id": "c31fcbe3",
   "metadata": {},
   "outputs": [],
   "source": [
    "i3='SUV - STANDARD'"
   ]
  },
  {
   "cell_type": "code",
   "execution_count": 10,
   "id": "31a10623",
   "metadata": {},
   "outputs": [
    {
     "data": {
      "text/plain": [
       "array([3.6, 2.5])"
      ]
     },
     "execution_count": 10,
     "metadata": {},
     "output_type": "execute_result"
    }
   ],
   "source": [
    "dfn2=dfn1[dfn1['vehicle_class']==i3]\n",
    "d=dfn2['engine_size'].unique()\n",
    "d"
   ]
  },
  {
   "cell_type": "code",
   "execution_count": 11,
   "id": "ea359ed3",
   "metadata": {},
   "outputs": [],
   "source": [
    "d.sort()"
   ]
  },
  {
   "cell_type": "code",
   "execution_count": 12,
   "id": "8f4711b9",
   "metadata": {},
   "outputs": [
    {
     "data": {
      "text/plain": [
       "array([2.5, 3.6])"
      ]
     },
     "execution_count": 12,
     "metadata": {},
     "output_type": "execute_result"
    }
   ],
   "source": [
    "d"
   ]
  },
  {
   "cell_type": "code",
   "execution_count": 13,
   "id": "dfd0be47",
   "metadata": {},
   "outputs": [],
   "source": [
    "i4=2.5"
   ]
  },
  {
   "cell_type": "code",
   "execution_count": 14,
   "id": "d2c3dbcd",
   "metadata": {},
   "outputs": [
    {
     "data": {
      "text/plain": [
       "array([4, 6], dtype=int64)"
      ]
     },
     "execution_count": 14,
     "metadata": {},
     "output_type": "execute_result"
    }
   ],
   "source": [
    "dfn3=dfn2[dfn2['engine_size']==i4]\n",
    "e=dfn2['cylinders'].unique()\n",
    "e.sort()\n",
    "e"
   ]
  },
  {
   "cell_type": "code",
   "execution_count": 15,
   "id": "07c15012",
   "metadata": {},
   "outputs": [],
   "source": [
    "i5=4"
   ]
  },
  {
   "cell_type": "code",
   "execution_count": 16,
   "id": "f884f240",
   "metadata": {},
   "outputs": [
    {
     "data": {
      "text/plain": [
       "array(['A'], dtype=object)"
      ]
     },
     "execution_count": 16,
     "metadata": {},
     "output_type": "execute_result"
    }
   ],
   "source": [
    "dfn4 = dfn3[dfn3['cylinders']==i5]\n",
    "f=dfn3['transmission'].unique()\n",
    "f"
   ]
  },
  {
   "cell_type": "code",
   "execution_count": 18,
   "id": "f9bbf56b",
   "metadata": {},
   "outputs": [],
   "source": [
    "i6 = 'A'"
   ]
  },
  {
   "cell_type": "code",
   "execution_count": 19,
   "id": "6479c2f0",
   "metadata": {},
   "outputs": [
    {
     "data": {
      "text/plain": [
       "array(['X'], dtype=object)"
      ]
     },
     "execution_count": 19,
     "metadata": {},
     "output_type": "execute_result"
    }
   ],
   "source": [
    "dfn5 = dfn4[dfn4['transmission'] == i6]\n",
    "i = dfn4['fuel_type'].unique()\n",
    "i"
   ]
  },
  {
   "cell_type": "code",
   "execution_count": 20,
   "id": "a1947eac",
   "metadata": {},
   "outputs": [
    {
     "data": {
      "text/plain": [
       "4.1"
      ]
     },
     "execution_count": 20,
     "metadata": {},
     "output_type": "execute_result"
    }
   ],
   "source": [
    "df['fuel_consumption_comb(l/100km)'].min()"
   ]
  },
  {
   "cell_type": "code",
   "execution_count": 21,
   "id": "4dcbcd29",
   "metadata": {},
   "outputs": [
    {
     "data": {
      "text/plain": [
       "26.1"
      ]
     },
     "execution_count": 21,
     "metadata": {},
     "output_type": "execute_result"
    }
   ],
   "source": [
    "df['fuel_consumption_comb(l/100km)'].max()"
   ]
  },
  {
   "cell_type": "code",
   "execution_count": null,
   "id": "6715d967",
   "metadata": {},
   "outputs": [],
   "source": []
  }
 ],
 "metadata": {
  "kernelspec": {
   "display_name": "Python 3 (ipykernel)",
   "language": "python",
   "name": "python3"
  },
  "language_info": {
   "codemirror_mode": {
    "name": "ipython",
    "version": 3
   },
   "file_extension": ".py",
   "mimetype": "text/x-python",
   "name": "python",
   "nbconvert_exporter": "python",
   "pygments_lexer": "ipython3",
   "version": "3.9.7"
  }
 },
 "nbformat": 4,
 "nbformat_minor": 5
}
